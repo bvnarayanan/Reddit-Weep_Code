{
 "cells": [
  {
   "cell_type": "code",
   "execution_count": 1,
   "metadata": {},
   "outputs": [
    {
     "name": "stderr",
     "output_type": "stream",
     "text": [
      "[nltk_data] Downloading package vader_lexicon to\n",
      "[nltk_data]     /home/rohin/nltk_data...\n",
      "[nltk_data]   Package vader_lexicon is already up-to-date!\n",
      "[nltk_data] Downloading package punkt to /home/rohin/nltk_data...\n",
      "[nltk_data]   Package punkt is already up-to-date!\n",
      "[nltk_data] Downloading package stopwords to /home/rohin/nltk_data...\n",
      "[nltk_data]   Package stopwords is already up-to-date!\n",
      "[nltk_data] Downloading package wordnet to /home/rohin/nltk_data...\n",
      "[nltk_data]   Package wordnet is already up-to-date!\n",
      "[nltk_data] Downloading package omw-1.4 to /home/rohin/nltk_data...\n",
      "[nltk_data]   Package omw-1.4 is already up-to-date!\n"
     ]
    }
   ],
   "source": [
    "import numpy as np\n",
    "import pandas as pd\n",
    "import nltk\n",
    "import string\n",
    "import matplotlib.pyplot as plt\n",
    "\n",
    "nltk.download('vader_lexicon')\n",
    "nltk.download('punkt')\n",
    "nltk.download('stopwords')\n",
    "nltk.download('wordnet')\n",
    "nltk.download('omw-1.4')\n",
    "\n",
    "from nltk.sentiment.vader import SentimentIntensityAnalyzer\n",
    "from nltk.probability import FreqDist\n",
    "from nltk.tokenize import word_tokenize\n",
    "from nltk.corpus import stopwords\n",
    "from nltk.stem import WordNetLemmatizer\n",
    "from heapq import nlargest\n",
    "\n",
    "sid = SentimentIntensityAnalyzer()\n",
    "lemma = WordNetLemmatizer()"
   ]
  },
  {
   "cell_type": "code",
   "execution_count": 2,
   "metadata": {},
   "outputs": [],
   "source": [
    "# given path to data file, get sentiment score for the combined title and body\n",
    "def get_sentiment(filepath):\n",
    "    df = pd.read_csv(filepath)\n",
    "    \n",
    "    df[\"full_text\"] = df[\"title\"] + \" \" + df[\"selftext\"]\n",
    "    df[\"sent_score\"] = df[\"full_text\"].apply(lambda review: sid.polarity_scores(review))\n",
    "    df[\"compound\"] = df[\"sent_score\"].apply(lambda score_dict: score_dict[\"compound\"])\n",
    "    df[\"sentiment\"] = df[\"compound\"].apply(lambda c: \"pos\" if c > 0 else (\"neu\" if c == 0 else \"neg\"))\n",
    "    \n",
    "    return df"
   ]
  },
  {
   "cell_type": "code",
   "execution_count": 3,
   "metadata": {},
   "outputs": [
    {
     "data": {
      "text/html": [
       "<div>\n",
       "<style scoped>\n",
       "    .dataframe tbody tr th:only-of-type {\n",
       "        vertical-align: middle;\n",
       "    }\n",
       "\n",
       "    .dataframe tbody tr th {\n",
       "        vertical-align: top;\n",
       "    }\n",
       "\n",
       "    .dataframe thead th {\n",
       "        text-align: right;\n",
       "    }\n",
       "</style>\n",
       "<table border=\"1\" class=\"dataframe\">\n",
       "  <thead>\n",
       "    <tr style=\"text-align: right;\">\n",
       "      <th></th>\n",
       "      <th>id</th>\n",
       "      <th>url</th>\n",
       "      <th>title</th>\n",
       "      <th>score</th>\n",
       "      <th>num_comments</th>\n",
       "      <th>created_utc</th>\n",
       "      <th>selftext</th>\n",
       "      <th>full_text</th>\n",
       "      <th>sent_score</th>\n",
       "      <th>compound</th>\n",
       "      <th>sentiment</th>\n",
       "    </tr>\n",
       "  </thead>\n",
       "  <tbody>\n",
       "    <tr>\n",
       "      <th>0</th>\n",
       "      <td>5lktn4</td>\n",
       "      <td>https://www.reddit.com/r/BostonU/comments/5lkt...</td>\n",
       "      <td>Admission Questions and Answers</td>\n",
       "      <td>18</td>\n",
       "      <td>16</td>\n",
       "      <td>2017-01-02 03:26:23</td>\n",
       "      <td>Stickied thread for general admission question...</td>\n",
       "      <td>Admission Questions and Answers Stickied threa...</td>\n",
       "      <td>{'neg': 0.0, 'neu': 0.791, 'pos': 0.209, 'comp...</td>\n",
       "      <td>0.7506</td>\n",
       "      <td>pos</td>\n",
       "    </tr>\n",
       "    <tr>\n",
       "      <th>1</th>\n",
       "      <td>5nytp4</td>\n",
       "      <td>https://www.reddit.com/r/BostonU/comments/5nyt...</td>\n",
       "      <td>Hey Terrier Sports Fans</td>\n",
       "      <td>13</td>\n",
       "      <td>0</td>\n",
       "      <td>2017-01-14 10:17:47</td>\n",
       "      <td>With the second semester starting, and \"Trophy...</td>\n",
       "      <td>Hey Terrier Sports Fans With the second semest...</td>\n",
       "      <td>{'neg': 0.0, 'neu': 1.0, 'pos': 0.0, 'compound...</td>\n",
       "      <td>0.0000</td>\n",
       "      <td>neu</td>\n",
       "    </tr>\n",
       "    <tr>\n",
       "      <th>2</th>\n",
       "      <td>5q7f2s</td>\n",
       "      <td>https://www.reddit.com/r/BostonU/comments/5q7f...</td>\n",
       "      <td>Boston University Paintball?</td>\n",
       "      <td>12</td>\n",
       "      <td>3</td>\n",
       "      <td>2017-01-25 17:30:43</td>\n",
       "      <td>Hey BU,\\n\\nI'm a current freshman here at BU a...</td>\n",
       "      <td>Boston University Paintball? Hey BU,\\n\\nI'm a ...</td>\n",
       "      <td>{'neg': 0.011, 'neu': 0.884, 'pos': 0.105, 'co...</td>\n",
       "      <td>0.9273</td>\n",
       "      <td>pos</td>\n",
       "    </tr>\n",
       "    <tr>\n",
       "      <th>3</th>\n",
       "      <td>5t8gdq</td>\n",
       "      <td>https://www.reddit.com/r/BostonU/comments/5t8g...</td>\n",
       "      <td>Warren towers garage smells like weed all the ...</td>\n",
       "      <td>17</td>\n",
       "      <td>9</td>\n",
       "      <td>2017-02-10 09:04:09</td>\n",
       "      <td>Anyone ever notice that as you go up the escal...</td>\n",
       "      <td>Warren towers garage smells like weed all the ...</td>\n",
       "      <td>{'neg': 0.033, 'neu': 0.841, 'pos': 0.125, 'co...</td>\n",
       "      <td>0.7882</td>\n",
       "      <td>pos</td>\n",
       "    </tr>\n",
       "    <tr>\n",
       "      <th>4</th>\n",
       "      <td>5ui3v9</td>\n",
       "      <td>https://www.reddit.com/r/BostonU/comments/5ui3...</td>\n",
       "      <td>People with Laptops taking up computers in the...</td>\n",
       "      <td>12</td>\n",
       "      <td>6</td>\n",
       "      <td>2017-02-16 13:46:24</td>\n",
       "      <td>Can we stop this? If you already have a laptop...</td>\n",
       "      <td>People with Laptops taking up computers in the...</td>\n",
       "      <td>{'neg': 0.111, 'neu': 0.889, 'pos': 0.0, 'comp...</td>\n",
       "      <td>-0.4588</td>\n",
       "      <td>neg</td>\n",
       "    </tr>\n",
       "  </tbody>\n",
       "</table>\n",
       "</div>"
      ],
      "text/plain": [
       "       id                                                url  \\\n",
       "0  5lktn4  https://www.reddit.com/r/BostonU/comments/5lkt...   \n",
       "1  5nytp4  https://www.reddit.com/r/BostonU/comments/5nyt...   \n",
       "2  5q7f2s  https://www.reddit.com/r/BostonU/comments/5q7f...   \n",
       "3  5t8gdq  https://www.reddit.com/r/BostonU/comments/5t8g...   \n",
       "4  5ui3v9  https://www.reddit.com/r/BostonU/comments/5ui3...   \n",
       "\n",
       "                                               title  score  num_comments  \\\n",
       "0                    Admission Questions and Answers     18            16   \n",
       "1                            Hey Terrier Sports Fans     13             0   \n",
       "2                       Boston University Paintball?     12             3   \n",
       "3  Warren towers garage smells like weed all the ...     17             9   \n",
       "4  People with Laptops taking up computers in the...     12             6   \n",
       "\n",
       "           created_utc                                           selftext  \\\n",
       "0  2017-01-02 03:26:23  Stickied thread for general admission question...   \n",
       "1  2017-01-14 10:17:47  With the second semester starting, and \"Trophy...   \n",
       "2  2017-01-25 17:30:43  Hey BU,\\n\\nI'm a current freshman here at BU a...   \n",
       "3  2017-02-10 09:04:09  Anyone ever notice that as you go up the escal...   \n",
       "4  2017-02-16 13:46:24  Can we stop this? If you already have a laptop...   \n",
       "\n",
       "                                           full_text  \\\n",
       "0  Admission Questions and Answers Stickied threa...   \n",
       "1  Hey Terrier Sports Fans With the second semest...   \n",
       "2  Boston University Paintball? Hey BU,\\n\\nI'm a ...   \n",
       "3  Warren towers garage smells like weed all the ...   \n",
       "4  People with Laptops taking up computers in the...   \n",
       "\n",
       "                                          sent_score  compound sentiment  \n",
       "0  {'neg': 0.0, 'neu': 0.791, 'pos': 0.209, 'comp...    0.7506       pos  \n",
       "1  {'neg': 0.0, 'neu': 1.0, 'pos': 0.0, 'compound...    0.0000       neu  \n",
       "2  {'neg': 0.011, 'neu': 0.884, 'pos': 0.105, 'co...    0.9273       pos  \n",
       "3  {'neg': 0.033, 'neu': 0.841, 'pos': 0.125, 'co...    0.7882       pos  \n",
       "4  {'neg': 0.111, 'neu': 0.889, 'pos': 0.0, 'comp...   -0.4588       neg  "
      ]
     },
     "execution_count": 3,
     "metadata": {},
     "output_type": "execute_result"
    }
   ],
   "source": [
    "bostonU = get_sentiment(\"data/private/BostonU/BostonU_all_time.csv\")\n",
    "bostonU.head()"
   ]
  },
  {
   "cell_type": "code",
   "execution_count": 4,
   "metadata": {},
   "outputs": [],
   "source": [
    "georgetown = get_sentiment(\"data/private/georgetown/georgetown_all_time.csv\")\n",
    "brown = get_sentiment(\"data/private/BrownU/BrownU_all_time.csv\")\n",
    "harvard = get_sentiment(\"data/private/Harvard/Harvard_all_time.csv\")\n",
    "upenn = get_sentiment(\"data/private/UPenn/UPenn_all_time.csv\")\n",
    "usc = get_sentiment(\"data/private/USC/USC_all_time.csv\")\n",
    "syracuse = get_sentiment(\"data/private/Syracuse/Syracuse_all_time.csv\")\n",
    "columbia = get_sentiment(\"data/private/columbia/columbia_all_time.csv\")\n",
    "mit = get_sentiment(\"data/private/mit/mit_all_time.csv\")\n",
    "notredame = get_sentiment(\"data/private/notredame/notredame_all_time.csv\")\n",
    "stanford = get_sentiment(\"data/private/stanford/stanford_all_time.csv\")\n",
    "yale = get_sentiment(\"data/private/yale/yale_all_time.csv\")"
   ]
  },
  {
   "cell_type": "code",
   "execution_count": 5,
   "metadata": {},
   "outputs": [
    {
     "name": "stdout",
     "output_type": "stream",
     "text": [
      "['i', 'me', 'my', 'myself', 'we', 'our', 'ours', 'ourselves', 'you', \"you're\", \"you've\", \"you'll\", \"you'd\", 'your', 'yours', 'yourself', 'yourselves', 'he', 'him', 'his', 'himself', 'she', \"she's\", 'her', 'hers', 'herself', 'it', \"it's\", 'its', 'itself', 'they', 'them', 'their', 'theirs', 'themselves', 'what', 'which', 'who', 'whom', 'this', 'that', \"that'll\", 'these', 'those', 'am', 'is', 'are', 'was', 'were', 'be', 'been', 'being', 'have', 'has', 'had', 'having', 'do', 'does', 'did', 'doing', 'a', 'an', 'the', 'and', 'but', 'if', 'or', 'because', 'as', 'until', 'while', 'of', 'at', 'by', 'for', 'with', 'about', 'against', 'between', 'into', 'through', 'during', 'before', 'after', 'above', 'below', 'to', 'from', 'up', 'down', 'in', 'out', 'on', 'off', 'over', 'under', 'again', 'further', 'then', 'once', 'here', 'there', 'when', 'where', 'why', 'how', 'all', 'any', 'both', 'each', 'few', 'more', 'most', 'other', 'some', 'such', 'no', 'nor', 'not', 'only', 'own', 'same', 'so', 'than', 'too', 'very', 's', 't', 'can', 'will', 'just', 'don', \"don't\", 'should', \"should've\", 'now', 'd', 'll', 'm', 'o', 're', 've', 'y', 'ain', 'aren', \"aren't\", 'couldn', \"couldn't\", 'didn', \"didn't\", 'doesn', \"doesn't\", 'hadn', \"hadn't\", 'hasn', \"hasn't\", 'haven', \"haven't\", 'isn', \"isn't\", 'ma', 'mightn', \"mightn't\", 'mustn', \"mustn't\", 'needn', \"needn't\", 'shan', \"shan't\", 'shouldn', \"shouldn't\", 'wasn', \"wasn't\", 'weren', \"weren't\", 'won', \"won't\", 'wouldn', \"wouldn't\", \"'m\", \"n't\", \"'s\", \"'re\"]\n"
     ]
    }
   ],
   "source": [
    "stop_words = list(stopwords.words('english'))\n",
    "stop_words = stop_words + [\"'m\", \"n't\", \"'s\", \"'re\"] # add more common stop words\n",
    "print(stop_words)"
   ]
  },
  {
   "cell_type": "code",
   "execution_count": 6,
   "metadata": {},
   "outputs": [],
   "source": [
    "# get word frequency given a DataFrame\n",
    "def get_word_frequency(df):\n",
    "    df[\"text_token\"] = df[\"full_text\"].apply(word_tokenize)\n",
    "    df[\"text_stop\"] = df[\"text_token\"].apply(lambda x: [word for word in x if word.lower() not in stop_words])\n",
    "    df[\"text_stem\"] = df[\"text_stop\"].apply(lambda x: [lemma.lemmatize(word) for word in x])\n",
    "    \n",
    "    text = df[\"text_stem\"].apply(pd.Series).stack()\n",
    "    \n",
    "    fdist = FreqDist(text)\n",
    "    for punc in string.punctuation:\n",
    "        del fdist[punc]\n",
    "    \n",
    "    del fdist[\"’\"]\n",
    "        \n",
    "    return fdist"
   ]
  },
  {
   "cell_type": "code",
   "execution_count": 7,
   "metadata": {},
   "outputs": [
    {
     "data": {
      "text/plain": [
       "'!\"#$%&\\'()*+,-./:;<=>?@[\\\\]^_`{|}~'"
      ]
     },
     "execution_count": 7,
     "metadata": {},
     "output_type": "execute_result"
    }
   ],
   "source": [
    "string.punctuation"
   ]
  },
  {
   "cell_type": "code",
   "execution_count": 8,
   "metadata": {},
   "outputs": [
    {
     "data": {
      "text/plain": [
       "['BU',\n",
       " 'like',\n",
       " 'class',\n",
       " 'student',\n",
       " 'get',\n",
       " 'know',\n",
       " 'would',\n",
       " 'anyone',\n",
       " 'people',\n",
       " 'one',\n",
       " 'year',\n",
       " 'campus',\n",
       " 'semester',\n",
       " 'time',\n",
       " 'really',\n",
       " 'want',\n",
       " 'go',\n",
       " 'work',\n",
       " 'take',\n",
       " 'make',\n",
       " 'amp',\n",
       " 'going',\n",
       " 'http',\n",
       " '--',\n",
       " 'friend',\n",
       " 'school',\n",
       " 'good',\n",
       " 'got',\n",
       " 'wondering',\n",
       " 'much',\n",
       " 'need',\n",
       " 'help',\n",
       " 'feel',\n",
       " 'back',\n",
       " 'day',\n",
       " 'think',\n",
       " 'even',\n",
       " '``',\n",
       " \"''\",\n",
       " 'thing',\n",
       " 'still',\n",
       " 'way',\n",
       " 'also',\n",
       " 'email',\n",
       " 'see',\n",
       " 'Boston',\n",
       " 'getting',\n",
       " 'professor',\n",
       " 'sure',\n",
       " 'course']"
      ]
     },
     "execution_count": 8,
     "metadata": {},
     "output_type": "execute_result"
    }
   ],
   "source": [
    "bostonU_freq = get_word_frequency(bostonU)\n",
    "\n",
    "# get 50 most frequently used words\n",
    "top = nlargest(50, bostonU_freq, key = bostonU_freq.get)\n",
    "top"
   ]
  },
  {
   "cell_type": "code",
   "execution_count": 9,
   "metadata": {},
   "outputs": [
    {
     "data": {
      "image/png": "[encoded data removed]",
      "text/plain": [
       "<Figure size 648x576 with 1 Axes>"
      ]
     },
     "metadata": {
      "needs_background": "light"
     },
     "output_type": "display_data"
    }
   ],
   "source": [
    "plt.figure(figsize=(9,8))\n",
    "bostonU_freq.plot(50, cumulative=False);"
   ]
  },
  {
   "cell_type": "code",
   "execution_count": null,
   "metadata": {},
   "outputs": [],
   "source": []
  }
 ],
 "metadata": {
  "kernelspec": {
   "display_name": "Python 3 (ipykernel)",
   "language": "python",
   "name": "python3"
  },
  "language_info": {
   "codemirror_mode": {
    "name": "ipython",
    "version": 3
   },
   "file_extension": ".py",
   "mimetype": "text/x-python",
   "name": "python",
   "nbconvert_exporter": "python",
   "pygments_lexer": "ipython3",
   "version": "3.7.12"
  }
 },
 "nbformat": 4,
 "nbformat_minor": 4
}
