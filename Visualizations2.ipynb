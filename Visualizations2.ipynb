{
 "cells": [
  {
   "cell_type": "code",
   "execution_count": 51,
   "metadata": {},
   "outputs": [
    {
     "name": "stderr",
     "output_type": "stream",
     "text": [
      "[nltk_data] Downloading package vader_lexicon to\n",
      "[nltk_data]     /home/k1anders/nltk_data...\n",
      "[nltk_data]   Package vader_lexicon is already up-to-date!\n",
      "[nltk_data] Downloading package punkt to /home/k1anders/nltk_data...\n",
      "[nltk_data]   Package punkt is already up-to-date!\n",
      "[nltk_data] Downloading package stopwords to\n",
      "[nltk_data]     /home/k1anders/nltk_data...\n",
      "[nltk_data]   Package stopwords is already up-to-date!\n",
      "[nltk_data] Downloading package wordnet to /home/k1anders/nltk_data...\n",
      "[nltk_data]   Package wordnet is already up-to-date!\n",
      "[nltk_data] Downloading package omw-1.4 to /home/k1anders/nltk_data...\n",
      "[nltk_data]   Package omw-1.4 is already up-to-date!\n"
     ]
    }
   ],
   "source": [
    "import numpy as np\n",
    "import pandas as pd\n",
    "import nltk\n",
    "import string\n",
    "import matplotlib.pyplot as plt\n",
    "import seaborn as sns\n",
    "\n",
    "nltk.download('vader_lexicon')\n",
    "nltk.download('punkt')\n",
    "nltk.download('stopwords')\n",
    "nltk.download('wordnet')\n",
    "nltk.download('omw-1.4')\n",
    "\n",
    "from nltk.sentiment.vader import SentimentIntensityAnalyzer\n",
    "from nltk.probability import FreqDist\n",
    "from nltk.tokenize import word_tokenize\n",
    "from nltk.corpus import stopwords\n",
    "from nltk.stem import WordNetLemmatizer\n",
    "from heapq import nlargest\n",
    "\n",
    "sid = SentimentIntensityAnalyzer()\n",
    "lemma = WordNetLemmatizer()"
   ]
  },
  {
   "cell_type": "code",
   "execution_count": 52,
   "metadata": {},
   "outputs": [],
   "source": [
    "def get_sentiment(filepath):\n",
    "    df = pd.read_csv(filepath)\n",
    "    \n",
    "    df[\"full_text\"] = df[\"title\"] + \" \" + df[\"selftext\"]\n",
    "    df[\"sent_score\"] = df[\"full_text\"].apply(lambda review: sid.polarity_scores(review))\n",
    "    df[\"compound\"] = df[\"sent_score\"].apply(lambda score_dict: score_dict[\"compound\"])\n",
    "    df[\"sentiment\"] = df[\"compound\"].apply(lambda c: \"pos\" if c > 0 else (\"neu\" if c == 0 else \"neg\"))\n",
    "    \n",
    "    return df"
   ]
  },
  {
   "cell_type": "code",
   "execution_count": 53,
   "metadata": {},
   "outputs": [],
   "source": [
    "georgetown = get_sentiment(\"data/private/georgetown/georgetown_all_time.csv\")\n",
    "brown = get_sentiment(\"data/private/BrownU/BrownU_all_time.csv\")\n",
    "harvard = get_sentiment(\"data/private/Harvard/Harvard_all_time.csv\")\n",
    "upenn = get_sentiment(\"data/private/UPenn/UPenn_all_time.csv\")\n",
    "usc = get_sentiment(\"data/private/USC/USC_all_time.csv\")\n",
    "syracuse = get_sentiment(\"data/private/Syracuse/Syracuse_all_time.csv\")\n",
    "columbia = get_sentiment(\"data/private/columbia/columbia_all_time.csv\")\n",
    "mit = get_sentiment(\"data/private/mit/mit_all_time.csv\")\n",
    "notredame = get_sentiment(\"data/private/notredame/notredame_all_time.csv\")\n",
    "stanford = get_sentiment(\"data/private/stanford/stanford_all_time.csv\")\n",
    "yale = get_sentiment(\"data/private/yale/yale_all_time.csv\")\n",
    "bostonU = get_sentiment(\"data/private/BostonU/BostonU_all_time.csv\")"
   ]
  },
  {
   "cell_type": "code",
   "execution_count": 54,
   "metadata": {},
   "outputs": [],
   "source": [
    "unis = {\n",
    "    'Georgetown':   georgetown,\n",
    "    'Brown':        brown,\n",
    "    'Harvard':      harvard,\n",
    "    'Upenn':        upenn,\n",
    "    'USC':          usc,\n",
    "    'Syracuse':     syracuse,\n",
    "    'Columbia':     columbia,\n",
    "    'MIT':          mit,\n",
    "    'Notredame':    notredame,\n",
    "    'Stanford':     stanford,\n",
    "    'Yale':         yale,\n",
    "    'Boston':       bostonU\n",
    "}"
   ]
  },
  {
   "cell_type": "code",
   "execution_count": 55,
   "metadata": {},
   "outputs": [],
   "source": [
    "palette ={\"pos\": \"#009E73\", \"neu\": \"#F0E442\", \"neg\": \"#D55E00\"} # change colors to colorblind friendly hex colors\n",
    "\n",
    "def countplot_per_year_per_uni(uni, uni_data):\n",
    "    data = uni_data.copy()\n",
    "    fig, ax = plt.subplots(figsize=(10,5))          # you can change the size here\n",
    "    fig.suptitle(uni)\n",
    "\n",
    "    data.created_utc = pd.to_datetime(data['created_utc'], format='%Y-%m-%d %H:%M:%S')\n",
    "    data.created_utc = data.created_utc.dt.strftime('%Y')\n",
    "    data.sentiment = data.sentiment.astype(\"category\") # set to categorical \n",
    "    sns.countplot(x = 'created_utc', hue = 'sentiment', data = data, ax=ax, palette = palette)\n",
    "    ax.legend(bbox_to_anchor=(1.02, 1), loc='upper left', borderaxespad=0)\n",
    "    ax.set_xlabel('Year')\n",
    "\n",
    "def countplot_per_month_per_year_per_uni(uni, uni_data):\n",
    "    data = uni_data.copy()\n",
    "    data.created_utc = pd.to_datetime(data['created_utc'], format='%Y-%m-%d %H:%M:%S')\n",
    "    groups = data.groupby(by=data.created_utc.dt.year)[['created_utc', 'sentiment']]\n",
    "#     Uncomment below to see the raw data count with dates.\n",
    "#     for key, item in groups:\n",
    "#         print(groups.get_group(key), \"\\n\\n\")\n",
    "\n",
    "    fig, ax = plt.subplots(5, figsize=(15,15))      # you can change the size here\n",
    "    fig.suptitle(uni + '\\n')\n",
    "\n",
    "    for i, (year, df) in enumerate(groups):\n",
    "        df.created_utc = df.created_utc.dt.strftime('%B')\n",
    "        df.sentiment = df.sentiment.astype(\"category\") # set to categorical\n",
    "        \n",
    "        sns.countplot(x = 'created_utc', hue = 'sentiment', data = df, ax=ax[i], palette=palette)\n",
    "        ax[i].legend(bbox_to_anchor=(1.02, 1), loc='upper left', borderaxespad=0)\n",
    "        ax[i].set_title(year)\n",
    "        ax[i].set_xlabel('')\n",
    "        plt.tight_layout()\n",
    "\n",
    "def pieplot_per_uni(uni, uni_df):\n",
    "    fig, ax = plt.subplots(figsize=(7,7))           # you can change the size here\n",
    "    fig.suptitle(uni)\n",
    "    pd.DataFrame(data=uni_df.sentiment.value_counts()).plot.pie(y='sentiment', ax=ax)\n",
    "\n",
    "def pieplot_per_year_per_uni(uni, uni_df):\n",
    "    data = uni_df.copy()\n",
    "\n",
    "    data.created_utc = pd.to_datetime(data['created_utc'], format='%Y-%m-%d %H:%M:%S')\n",
    "    groups = data.groupby(by=data.created_utc.dt.year)[['created_utc', 'sentiment']]\n",
    "\n",
    "    fig, ax = plt.subplots(ncols=5, figsize=(15,15)) # you can change the size here\n",
    "    fig.suptitle(uni)\n",
    "\n",
    "    for i, (year, df) in enumerate(groups):\n",
    "        pd.DataFrame(data=df.sentiment.value_counts()).plot.pie(y='sentiment', ax=ax[i])\n",
    "        ax[i].set_title(year)\n",
    "\n",
    "    plt.tight_layout()\n",
    "    fig.subplots_adjust(top=1.7)                    # adjust this for position of figure title"
   ]
  },
  {
   "cell_type": "markdown",
   "metadata": {},
   "source": [
    "## $$GEORGETOWN$$"
   ]
  },
  {
   "cell_type": "code",
   "execution_count": 56,
   "metadata": {},
   "outputs": [],
   "source": [
    "countplot_per_year_per_uni('Georgetown', georgetown)\n",
    "countplot_per_month_per_year_per_uni('Georgetown', georgetown)\n",
    "pieplot_per_uni('Georgetown', georgetown)\n",
    "pieplot_per_year_per_uni('Georgetown', georgetown)\n"
   ]
  },
  {
   "cell_type": "markdown",
   "metadata": {
    "tags": []
   },
   "source": [
    "## $$ BROWN $$"
   ]
  },
  {
   "cell_type": "code",
   "execution_count": 57,
   "metadata": {},
   "outputs": [
    {
     "data": {
      "image/png": "[encoded data removed]",
      "text/plain": [
       "<Figure size 720x360 with 1 Axes>"
      ]
     },
     "metadata": {
      "needs_background": "light"
     },
     "output_type": "display_data"
    },
    {
     "data": {
      "image/png": "[encoded data removed]",
      "text/plain": [
       "<Figure size 1080x1080 with 5 Axes>"
      ]
     },
     "metadata": {
      "needs_background": "light"
     },
     "output_type": "display_data"
    }
   ],
   "source": [
    "countplot_per_year_per_uni('Brown', brown)\n",
    "countplot_per_month_per_year_per_uni('Brown', brown)\n",
    "# pieplot_per_uni('Brown', brown)\n",
    "# pieplot_per_year_per_uni('Brown', brown)"
   ]
  },
  {
   "cell_type": "markdown",
   "metadata": {
    "tags": []
   },
   "source": [
    "## $$ HARVARD $$"
   ]
  },
  {
   "cell_type": "code",
   "execution_count": null,
   "metadata": {},
   "outputs": [],
   "source": [
    "countplot_per_year_per_uni('Harvard', harvard)\n",
    "countplot_per_month_per_year_per_uni('Harvard', harvard)\n",
    "pieplot_per_uni('Harvard', harvard)\n",
    "pieplot_per_year_per_uni('Harvard', harvard)"
   ]
  },
  {
   "cell_type": "markdown",
   "metadata": {},
   "source": [
    "## $$ UPENN $$"
   ]
  },
  {
   "cell_type": "code",
   "execution_count": null,
   "metadata": {},
   "outputs": [],
   "source": [
    "countplot_per_year_per_uni('Upenn', upenn)\n",
    "countplot_per_month_per_year_per_uni('Upenn', upenn)\n",
    "pieplot_per_uni('Upenn', upenn)\n",
    "pieplot_per_year_per_uni('Upenn', upenn)"
   ]
  },
  {
   "cell_type": "markdown",
   "metadata": {},
   "source": [
    "## $$ USC $$"
   ]
  },
  {
   "cell_type": "code",
   "execution_count": null,
   "metadata": {},
   "outputs": [],
   "source": [
    "countplot_per_year_per_uni('USC', usc)\n",
    "countplot_per_month_per_year_per_uni('USC', usc)\n",
    "pieplot_per_uni('USC', usc)\n",
    "pieplot_per_year_per_uni('USC', usc)"
   ]
  },
  {
   "cell_type": "markdown",
   "metadata": {},
   "source": [
    "## $$ SYRACUSE $$"
   ]
  },
  {
   "cell_type": "code",
   "execution_count": null,
   "metadata": {},
   "outputs": [],
   "source": [
    "countplot_per_year_per_uni('Syracuse', syracuse)\n",
    "countplot_per_month_per_year_per_uni('Syracuse', syracuse)\n",
    "pieplot_per_uni('Syracuse', syracuse)\n",
    "pieplot_per_year_per_uni('Syracuse', syracuse)"
   ]
  },
  {
   "cell_type": "markdown",
   "metadata": {},
   "source": [
    "## $$ COLUMBIA $$"
   ]
  },
  {
   "cell_type": "code",
   "execution_count": null,
   "metadata": {},
   "outputs": [],
   "source": [
    "countplot_per_year_per_uni('Columbia', columbia)\n",
    "countplot_per_month_per_year_per_uni('Columbia', columbia)\n",
    "pieplot_per_uni('Columbia', columbia)\n",
    "pieplot_per_year_per_uni('Columbia', columbia)"
   ]
  },
  {
   "cell_type": "markdown",
   "metadata": {},
   "source": [
    "## $$ MIT $$"
   ]
  },
  {
   "cell_type": "code",
   "execution_count": null,
   "metadata": {},
   "outputs": [],
   "source": [
    "countplot_per_year_per_uni('MIT', mit)\n",
    "countplot_per_month_per_year_per_uni('MIT', mit)\n",
    "pieplot_per_uni('MIT', mit)\n",
    "pieplot_per_year_per_uni('MIT', mit)"
   ]
  },
  {
   "cell_type": "markdown",
   "metadata": {},
   "source": [
    "## $$ NOTREDAME $$"
   ]
  },
  {
   "cell_type": "code",
   "execution_count": null,
   "metadata": {},
   "outputs": [],
   "source": [
    "countplot_per_year_per_uni('Notredame', notredame)\n",
    "countplot_per_month_per_year_per_uni('Notredame', notredame)\n",
    "pieplot_per_uni('Notredame', notredame)\n",
    "pieplot_per_year_per_uni('Notredame', notredame)"
   ]
  },
  {
   "cell_type": "markdown",
   "metadata": {},
   "source": [
    "## $$ STANFORD $$"
   ]
  },
  {
   "cell_type": "code",
   "execution_count": null,
   "metadata": {},
   "outputs": [],
   "source": [
    "countplot_per_year_per_uni('Stanford', stanford)\n",
    "countplot_per_month_per_year_per_uni('Stanford', stanford)\n",
    "pieplot_per_uni('Stanford', stanford)\n",
    "pieplot_per_year_per_uni('Stanford', stanford)"
   ]
  },
  {
   "cell_type": "markdown",
   "metadata": {},
   "source": [
    "## $$ YALE $$"
   ]
  },
  {
   "cell_type": "code",
   "execution_count": null,
   "metadata": {},
   "outputs": [],
   "source": [
    "countplot_per_year_per_uni('Yale', yale)\n",
    "countplot_per_month_per_year_per_uni('Yale', yale)\n",
    "pieplot_per_uni('Yale', yale)\n",
    "pieplot_per_year_per_uni('Yale', yale)"
   ]
  },
  {
   "cell_type": "markdown",
   "metadata": {},
   "source": [
    "## $$ BOSTON $$"
   ]
  },
  {
   "cell_type": "code",
   "execution_count": null,
   "metadata": {},
   "outputs": [],
   "source": [
    "countplot_per_year_per_uni('Boston', bostonU)\n",
    "countplot_per_month_per_year_per_uni('Boston', bostonU)\n",
    "pieplot_per_uni('Boston', bostonU)\n",
    "pieplot_per_year_per_uni('Boston', bostonU)"
   ]
  },
  {
   "cell_type": "code",
   "execution_count": null,
   "metadata": {},
   "outputs": [],
   "source": []
  }
 ],
 "metadata": {
  "interpreter": {
   "hash": "9e3bfd5707cea17bcbe380e30b983be31a9c4e73ed42697506103186bbe325e5"
  },
  "kernelspec": {
   "display_name": "Python 3 (ipykernel)",
   "language": "python",
   "name": "python3"
  },
  "language_info": {
   "codemirror_mode": {
    "name": "ipython",
    "version": 3
   },
   "file_extension": ".py",
   "mimetype": "text/x-python",
   "name": "python",
   "nbconvert_exporter": "python",
   "pygments_lexer": "ipython3",
   "version": "3.9.5"
  }
 },
 "nbformat": 4,
 "nbformat_minor": 4
}
