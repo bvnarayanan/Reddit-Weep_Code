{
 "cells": [
  {
   "cell_type": "code",
   "execution_count": 1,
   "id": "e37976da",
   "metadata": {},
   "outputs": [],
   "source": [
    "import praw\n",
    "import pandas as pd\n",
    "import datetime as dt\n",
    "import os"
   ]
  },
  {
   "cell_type": "code",
   "execution_count": 2,
   "id": "27c3ba48",
   "metadata": {
    "tags": [
     "remove_input"
    ]
   },
   "outputs": [],
   "source": [
    "PERSONAL_USE_SCRIPT = 'nYPVCDEY-uOd1w-nzJx-LA'\n",
    "SECRET_KEY = 'v-uoDDWsZba4y-MHv261Mmd6flrnXA'\n",
    "APP_NAME = 'cogs108_002'"
   ]
  },
  {
   "cell_type": "code",
   "execution_count": 3,
   "id": "012e5a73",
   "metadata": {},
   "outputs": [],
   "source": [
    "reddit = praw.Reddit(client_id=PERSONAL_USE_SCRIPT, \\\n",
    "                     client_secret=SECRET_KEY, \\\n",
    "                     user_agent=APP_NAME)"
   ]
  },
  {
   "cell_type": "code",
   "execution_count": 8,
   "id": "957c35e2",
   "metadata": {},
   "outputs": [],
   "source": [
    "public_subreddits = [\"UCSD\", \"FSU\", \"ucla\", \"UCSantaBarbara\", \"UCI\", \"UCDavis\", \"UCSC\", \"uofm\", \"udub\", \"UTAustin\",\n",
    "                     \"PennStateUniveristy\", \"gatech\"]\n",
    "\n",
    "submissions_dict = { \"id\" : [], \n",
    "                     \"url\" : [],\n",
    "                     \"title\" : [], \n",
    "                     \"score\" : [],\n",
    "#                      \"num_comments\": [], \n",
    "                     \"created\" : [], \n",
    "                     \"body\" : [] }"
   ]
  },
  {
   "cell_type": "code",
   "execution_count": 9,
   "id": "eba02948",
   "metadata": {},
   "outputs": [],
   "source": [
    "def get_reddit_posts(subreddits):\n",
    "    for sr in subreddits:\n",
    "        sub = reddit.subreddit(sr)\n",
    "        for submission in sub.top(limit=1000):\n",
    "            submissions_dict[\"id\"].append(submission.id)\n",
    "            submissions_dict[\"url\"].append(submission.url)\n",
    "            submissions_dict[\"title\"].append(submission.title)\n",
    "            submissions_dict[\"score\"].append(submission.score)\n",
    "        #     submissions_dict[\"num_comments\"].append(submission.num_comments)\n",
    "            submissions_dict[\"created\"].append(submission.created_utc)\n",
    "            submissions_dict[\"body\"].append(submission.selftext)\n",
    "        pd.DataFrame(submissions_dict).to_csv(\"raw_data/\" + sr, index=False)"
   ]
  },
  {
   "cell_type": "code",
   "execution_count": 10,
   "id": "36bd3d40",
   "metadata": {},
   "outputs": [],
   "source": [
    "get_reddit_posts(public_subreddits[0:4])"
   ]
  },
  {
   "cell_type": "code",
   "execution_count": null,
   "id": "a6fd0567",
   "metadata": {},
   "outputs": [],
   "source": [
    "get_reddit_posts(public_subreddits[4:8])"
   ]
  },
  {
   "cell_type": "code",
   "execution_count": null,
   "id": "a3d62099",
   "metadata": {},
   "outputs": [],
   "source": [
    "get_reddit_posts(public_subreddits[8:12])"
   ]
  },
  {
   "cell_type": "code",
   "execution_count": null,
   "id": "9d11d5f7",
   "metadata": {},
   "outputs": [],
   "source": [
    "def get_date(created):\n",
    "    return dt.datetime.fromtimestamp(created)"
   ]
  },
  {
   "cell_type": "code",
   "execution_count": null,
   "id": "d5cff4ed",
   "metadata": {},
   "outputs": [],
   "source": [
    "def filter_reddit(filepath):\n",
    "    submissions = pd.read_csv(filepath)\n",
    "    submissions = submissions.loc[(submissions[\"body\"] != \"[deleted]\") & (submissions[\"body\"] != \"[removed]\") &\n",
    "                                  (submissions[\"body\"] != \"\")]\n",
    "    submissions[\"created\"] = submissions[\"created\"].apply(get_date)\n",
    "    submissions = submissions.loc[(submissions[\"created\"].dt.strftime(\"%Y\") == \"2020\") | \n",
    "                                  (submissions[\"created\"].dt.strftime(\"%Y\") == \"2021\") |\n",
    "                                  (submissions[\"created\"].dt.strftime(\"%Y\") == \"2022\")]"
   ]
  }
 ],
 "metadata": {
  "celltoolbar": "Edit Metadata",
  "kernelspec": {
   "display_name": "Python 3 (ipykernel)",
   "language": "python",
   "name": "python3"
  },
  "language_info": {
   "codemirror_mode": {
    "name": "ipython",
    "version": 3
   },
   "file_extension": ".py",
   "mimetype": "text/x-python",
   "name": "python",
   "nbconvert_exporter": "python",
   "pygments_lexer": "ipython3",
   "version": "3.7.12"
  }
 },
 "nbformat": 4,
 "nbformat_minor": 5
}
